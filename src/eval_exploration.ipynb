{
 "cells": [
  {
   "cell_type": "code",
   "execution_count": null,
   "metadata": {},
   "outputs": [],
   "source": [
    "import numpy as np\n",
    "import os\n",
    "import pandas\n",
    "import json\n",
    "from pathlib import Path\n",
    "import matplotlib.pyplot as plt\n",
    "from pandas_profiling import ProfileReport\n",
    "import itertools"
   ]
  },
  {
   "cell_type": "code",
   "execution_count": null,
   "metadata": {},
   "outputs": [],
   "source": [
    "rows = [\"experiment_1\", \"experiment_2\", \"experiment_3\"]\n",
    "cols = [\"experiment_name\", \"method_name\", \"inference_time (something proportional to time)\"\n",
    "       , \"ground_truth_traj\", \"eval_traj\", \"l2_eval_error\", \"training_loss\", \"model_parameters\"]"
   ]
  },
  {
   "cell_type": "code",
   "execution_count": null,
   "metadata": {},
   "outputs": [],
   "source": [
    "aggregate_data = pandas.read_pickle(\"../aggregate_data.pkl\")\n",
    "ground_truth_data = pandas.read_pickle(\"../ground_truth_data.pkl\")\n",
    "inferred_data = pandas.read_pickle(\"../inferred_data.pkl\")\n",
    "aggregate_data.columns\n",
    "#inferred_data.columns"
   ]
  },
  {
   "cell_type": "code",
   "execution_count": null,
   "metadata": {},
   "outputs": [],
   "source": [
    "pandas\\\n",
    ".merge(aggregate_data, inferred_data, on=\"experiment_name\")\\\n",
    ".groupby([\"method_name\", \"system_name\", \"num_train_trajectories\"])\\\n",
    ".agg({\"relerr_l2\" : \"mean\"})"
   ]
  },
  {
   "cell_type": "code",
   "execution_count": null,
   "metadata": {},
   "outputs": [],
   "source": [
    "fig, ax = plt.subplots(2, 2)\n",
    "fig.set_figwidth(30)\n",
    "fig.set_figheight(20)\n",
    "\n",
    "df = pandas\\\n",
    ".merge(aggregate_data, inferred_data, on=\"experiment_name\")\\\n",
    ".groupby([\"method_name\", \"num_train_trajectories\", \"timestep_number\"])\\\n",
    ".agg({\"relerr_l2\" : \"mean\"}).add_prefix(\"mean_\").reset_index()\n",
    "\n",
    "df.loc[df[\"method_name\"] == \"mlp\"]\\\n",
    ".pivot(index=\"timestep_number\", columns=[\"method_name\", \"num_train_trajectories\"], values=\"mean_relerr_l2\")\\\n",
    ".plot(ax=ax[0,0], logy=True)\n",
    "\n",
    "df.loc[df[\"method_name\"] == \"hnn\"]\\\n",
    ".pivot(index=\"timestep_number\", columns=[\"method_name\", \"num_train_trajectories\"], values=\"mean_relerr_l2\")\\\n",
    ".plot(ax=ax[1,0], logy=True)\n",
    "\n",
    "df.loc[df[\"method_name\"] == \"srnn\"]\\\n",
    ".pivot(index=\"timestep_number\", columns=[\"method_name\", \"num_train_trajectories\"], values=\"mean_relerr_l2\")\\\n",
    ".plot(ax=ax[0,1], logy=True)\n",
    "\n",
    "df.loc[df[\"method_name\"] == \"knn-regressor\"]\\\n",
    ".pivot(index=\"timestep_number\", columns=[\"method_name\", \"num_train_trajectories\"], values=\"mean_relerr_l2\")\\\n",
    ".plot(ax=ax[1,1], logy=True)\n",
    "\n",
    "def style_update(ax):\n",
    "    ax.grid()\n",
    "    ax.grid(which='minor', linestyle=':', linewidth='0.5', color='black')\n",
    "    ax.legend(loc=\"lower right\")\n",
    "    \n",
    "\n",
    "[style_update(ax) for ax in itertools.chain(*ax)]\n"
   ]
  },
  {
   "cell_type": "code",
   "execution_count": null,
   "metadata": {},
   "outputs": [],
   "source": [
    "fig, ax = plt.subplots(1, 2)\n",
    "fig.set_figwidth(30)\n",
    "fig.set_figheight(10)\n",
    "\n",
    "df = pandas\\\n",
    ".merge(aggregate_data, inferred_data, on=\"experiment_name\")\\\n",
    ".groupby([\"method_name\", \"system_name\", \"num_train_trajectories\"])\\\n",
    ".agg({\"relerr_l2\" : \"mean\"}).add_prefix(\"mean_\").reset_index()\n",
    "\n",
    "df.loc[df[\"system_name\"] == \"spring\"]\\\n",
    ".pivot(index=\"method_name\", columns=[\"num_train_trajectories\"], values=\"mean_relerr_l2\")\\\n",
    ".plot(ax=ax[0], kind=\"bar\", logy=True)\n",
    "\n",
    "df.loc[df[\"system_name\"] == \"spring\"]\\\n",
    ".pivot(index=\"num_train_trajectories\", columns=[\"method_name\"], values=\"mean_relerr_l2\")\\\n",
    ".plot(ax=ax[1], kind=\"bar\", logy=True)\n",
    "\n",
    "def style_update(ax):\n",
    "    ax.grid()\n",
    "    ax.grid(which='minor', linestyle=':', linewidth='0.5', color='black')\n",
    "    ax.legend(loc=\"upper left\")\n",
    "\n",
    "[style_update(ax_) for ax_ in ax]"
   ]
  },
  {
   "cell_type": "code",
   "execution_count": null,
   "metadata": {},
   "outputs": [],
   "source": []
  }
 ],
 "metadata": {
  "kernelspec": {
   "display_name": "Python 3",
   "language": "python",
   "name": "python3"
  },
  "language_info": {
   "codemirror_mode": {
    "name": "ipython",
    "version": 3
   },
   "file_extension": ".py",
   "mimetype": "text/x-python",
   "name": "python",
   "nbconvert_exporter": "python",
   "pygments_lexer": "ipython3",
   "version": "3.8.5"
  }
 },
 "nbformat": 4,
 "nbformat_minor": 4
}
